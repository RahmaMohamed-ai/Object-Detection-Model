{
  "nbformat": 4,
  "nbformat_minor": 0,
  "metadata": {
    "colab": {
      "name": "object_detection2.ipynb",
      "provenance": [],
      "include_colab_link": true
    },
    "kernelspec": {
      "name": "python3",
      "display_name": "Python 3"
    },
    "language_info": {
      "name": "python"
    },
    "accelerator": "GPU"
  },
  "cells": [
    {
      "cell_type": "markdown",
      "metadata": {
        "id": "view-in-github",
        "colab_type": "text"
      },
      "source": [
        "<a href=\"https://colab.research.google.com/github/RahmaMohamed-ai/Object-Detection-Model/blob/main/object_detection2.ipynb\" target=\"_parent\"><img src=\"https://colab.research.google.com/assets/colab-badge.svg\" alt=\"Open In Colab\"/></a>"
      ]
    },
    {
      "cell_type": "code",
      "execution_count": null,
      "metadata": {
        "id": "wOkW-jFGX6dz"
      },
      "outputs": [],
      "source": [
        "# Import libraries\n",
        "import os\n",
        "import cv2\n",
        "import numpy as np\n",
        "import matplotlib.pyplot as plt\n",
        "# Import Warnings \n",
        "import warnings\n",
        "warnings.filterwarnings('ignore')\n",
        "import pandas as pd\n",
        "from sklearn.utils import shuffle\n",
        "from sklearn.model_selection import train_test_split\n",
        "#from sklearn.cross_validation import train_test_split\n",
        "# Import tensorflow as the backend for Keras\n",
        "from keras import backend as K\n",
        "K.set_image_data_format('channels_first')\n",
        "from keras.utils import np_utils\n",
        "from keras.models import Sequential\n",
        "from keras.layers.core import Dense, Dropout, Activation, Flatten\n",
        "from keras.layers.convolutional import Convolution2D, MaxPooling2D\n",
        "# from keras.optimizers import SGD,RMSprop,adam\n",
        "\n",
        "from tensorflow.keras.optimizers import RMSprop\n",
        "from tensorflow.keras.optimizers import SGD\n",
        "from tensorflow.keras.optimizers import Adam\n",
        "from keras.callbacks import TensorBoard\n",
        "# Import required libraries for cnfusion matrix\n",
        "from sklearn.metrics import classification_report,confusion_matrix\n",
        "import itertools\n",
        "\n",
        "import keras \n",
        "from keras.datasets import mnist\n",
        "from keras.layers import Dense, Dropout, Flatten \n",
        "from keras.layers import Conv2D, MaxPooling2D\n",
        "from keras import backend as K\n",
        "import numpy as np\n",
        "from tensorflow.keras.utils import to_categorical"
      ]
    },
    {
      "cell_type": "code",
      "source": [
        "model = Sequential() \n",
        "model.add(Conv2D(32, kernel_size=(3, 3), \n",
        "    strides=(1,1),\n",
        "    padding=\"same\",\n",
        "    activation='relu', \n",
        "    input_shape=(128,128,1)))\n",
        "\n",
        "model.add(Conv2D(32, (3, 3),strides=(1,1),padding=\"same\", activation='relu')) \n",
        "model.add(MaxPooling2D(pool_size=(2, 2),padding=\"same\"))\n",
        " \n",
        "model.add(Flatten()) \n",
        "model.add(Dropout(0.5)) \n",
        "model.add(Dense(128, activation='relu')) \n",
        "model.add(Dropout(0.5)) \n",
        "model.add(Dense(7, activation='softmax'))"
      ],
      "metadata": {
        "id": "Mvf1PDFeDSjR"
      },
      "execution_count": null,
      "outputs": []
    },
    {
      "cell_type": "code",
      "source": [
        "from google.colab import drive\n",
        "drive.mount('/content/drive')"
      ],
      "metadata": {
        "id": "XcPS_Bj8HF2w"
      },
      "execution_count": null,
      "outputs": []
    },
    {
      "cell_type": "code",
      "source": [
        "! pip install kaggle"
      ],
      "metadata": {
        "id": "Aky1SjMMa8tg"
      },
      "execution_count": null,
      "outputs": []
    },
    {
      "cell_type": "code",
      "source": [
        "! mkdir ~/.kaggle"
      ],
      "metadata": {
        "id": "sXmfBGEOblCJ"
      },
      "execution_count": null,
      "outputs": []
    },
    {
      "cell_type": "code",
      "source": [
        "! cp /content/drive/MyDrive/detection/kaggle.json ~/.kaggle/"
      ],
      "metadata": {
        "id": "ea8s8BuEbos6"
      },
      "execution_count": null,
      "outputs": []
    },
    {
      "cell_type": "code",
      "source": [
        "! chmod 600 ~/.kaggle/kaggle.json"
      ],
      "metadata": {
        "id": "IGGpHggjbtGw"
      },
      "execution_count": null,
      "outputs": []
    },
    {
      "cell_type": "code",
      "source": [
        "!kaggle kernels output pavansanagapati/simple-tutorial-on-object-recognition -p /path/to/dest"
      ],
      "metadata": {
        "id": "ENhB3U-2byIl"
      },
      "execution_count": null,
      "outputs": []
    },
    {
      "cell_type": "code",
      "source": [
        "%cd /content/drive/MyDrive/detection/"
      ],
      "metadata": {
        "id": "RG8nqWLgg0ht"
      },
      "execution_count": null,
      "outputs": []
    },
    {
      "cell_type": "code",
      "source": [
        "import os\n",
        "os.environ['KAGGLE_CONFIG_DIR'] = \"/content/drive/MyDrive/detection/\""
      ],
      "metadata": {
        "id": "J4suU3oUhaOO"
      },
      "execution_count": null,
      "outputs": []
    },
    {
      "cell_type": "code",
      "source": [
        "!kaggle datasets download -d pavansanagapati/images-dataset"
      ],
      "metadata": {
        "id": "X0niHcgIiFQm"
      },
      "execution_count": null,
      "outputs": []
    },
    {
      "cell_type": "code",
      "source": [
        "! unzip images-dataset"
      ],
      "metadata": {
        "id": "6e-mdtO0afSx"
      },
      "execution_count": null,
      "outputs": []
    },
    {
      "cell_type": "code",
      "source": [
        "# Define data path\n",
        "\n",
        "data_dir_list = ['bike', 'cars','cats','dogs','flowers','horses','human']\n",
        "data_dir_list\n",
        "\n",
        "img_rows=128\n",
        "img_cols=128\n",
        "num_channel=1\n",
        "num_epoch=100\n",
        "# Define the number of classes\n",
        "num_classes = 7\n",
        "img_data_list=[]\n",
        "for dataset in data_dir_list:\n",
        "\timg_list=os.listdir(\"/content/drive/MyDrive/detection/data\"+'/'+ dataset)\n",
        "\tprint ('Loaded the images of dataset-'+'{}\\n'.format(dataset))\n",
        "\tfor img in img_list:\n",
        "\t\tinput_img=cv2.imread(\"/content/drive/MyDrive/detection/data\" + '/'+ dataset + '/'+ img )\n",
        "\t\tinput_img=cv2.cvtColor(input_img, cv2.COLOR_BGR2GRAY)\n",
        "\t\tinput_img_resize=cv2.resize(input_img,(128,128))\n",
        "\t\timg_data_list.append(input_img_resize)\n",
        "\n",
        "img_data = np.array(img_data_list)\n",
        "img_data = img_data.astype('float32')\n",
        "img_data /= 255\n",
        "print (img_data.shape)"
      ],
      "metadata": {
        "colab": {
          "base_uri": "https://localhost:8080/"
        },
        "id": "NqqD_AvJlZ6S",
        "outputId": "30c7e504-d332-4e09-913b-97a4d77ed0f6"
      },
      "execution_count": null,
      "outputs": [
        {
          "output_type": "stream",
          "name": "stdout",
          "text": [
            "Loaded the images of dataset-bike\n",
            "\n",
            "Loaded the images of dataset-cars\n",
            "\n",
            "Loaded the images of dataset-cats\n",
            "\n",
            "Loaded the images of dataset-dogs\n",
            "\n",
            "Loaded the images of dataset-flowers\n",
            "\n",
            "Loaded the images of dataset-horses\n",
            "\n",
            "Loaded the images of dataset-human\n",
            "\n",
            "(1803, 128, 128)\n"
          ]
        }
      ]
    },
    {
      "cell_type": "code",
      "source": [
        "if num_channel==1:\n",
        "\tif K.set_image_data_format=='channels_first':\n",
        "\t\timg_data= np.expand_dims(img_data, axis=1) \n",
        "\t\tprint (img_data.shape)\n",
        "\telse:\n",
        "\t\timg_data= np.expand_dims(img_data, axis=3) \n",
        "\t\tprint (img_data.shape)\n",
        "\t\t\n",
        "else:\n",
        "\tif K.image_dim_ordering()=='channels_first':\n",
        "\t\timg_data=np.rollaxis(img_data,3,1)\n",
        "\t\tprint (img_data.shape)"
      ],
      "metadata": {
        "id": "_PFklx08pEaJ"
      },
      "execution_count": null,
      "outputs": []
    },
    {
      "cell_type": "code",
      "source": [
        "num_classes = 7\n",
        "num_of_samples = img_data.shape[0]\n",
        "labels = np.ones((num_of_samples,),dtype='int64')\n",
        "labels[0:365]=0\n",
        "labels[365:567]=1\n",
        "labels[567:987]=2\n",
        "labels[987:1189]=3\n",
        "labels[1189:1399]=4\n",
        "labels[1399:1601]=5\n",
        "labels[1601:1803]=6\n",
        "names = ['bike', 'cars', 'cats', 'dogs', 'flowers', 'horses', 'human']"
      ],
      "metadata": {
        "id": "iTC-0QOKp5B7"
      },
      "execution_count": null,
      "outputs": []
    },
    {
      "cell_type": "code",
      "source": [
        "Y = np_utils.to_categorical(labels, num_classes)"
      ],
      "metadata": {
        "id": "vfQxF28LqPVo"
      },
      "execution_count": null,
      "outputs": []
    },
    {
      "cell_type": "code",
      "source": [
        "x,y = shuffle(img_data,Y, random_state=2)\n",
        "X_train, X_test, y_train, y_test = train_test_split(x, y, test_size=0.2, random_state=2)"
      ],
      "metadata": {
        "id": "hf4zoajfqW7Z"
      },
      "execution_count": null,
      "outputs": []
    },
    {
      "cell_type": "code",
      "source": [
        "print(\"X_train shape = {}\".format(X_train.shape))\n",
        "print(\"X_test shape = {}\".format(X_test.shape))"
      ],
      "metadata": {
        "id": "EqF8xWOSqdcg"
      },
      "execution_count": null,
      "outputs": []
    },
    {
      "cell_type": "code",
      "source": [
        "image = X_train[1203,:].reshape((128,128))\n",
        "plt.imshow(image)\n",
        "plt.show()"
      ],
      "metadata": {
        "id": "r8LwWK_yqihT"
      },
      "execution_count": null,
      "outputs": []
    },
    {
      "cell_type": "code",
      "source": [
        "model = Sequential() \n",
        "model.add(Conv2D(64, kernel_size=(3, 3), \n",
        "    strides=(1,1),\n",
        "    padding=\"same\",\n",
        "    activation='relu', \n",
        "    input_shape=(128,128,1)))\n",
        "\n",
        "model.add(Conv2D(64, (3, 3),strides=(1,1),padding=\"same\", activation='relu')) \n",
        "model.add(MaxPooling2D(pool_size=(2, 2),padding=\"same\"))\n",
        "model.add(Conv2D(128, (3, 3),strides=(1,1),padding=\"same\", activation='relu')) \n",
        "model.add(Conv2D(128, (3, 3),strides=(1,1),padding=\"same\", activation='relu')) \n",
        "model.add(MaxPooling2D(pool_size=(2, 2),padding=\"same\"))\n",
        "model.add(Conv2D(256, (3, 3),strides=(1,1),padding=\"same\", activation='relu')) \n",
        "model.add(Conv2D(256, (3, 3),strides=(1,1),padding=\"same\", activation='relu')) \n",
        "model.add(Conv2D(256, (3, 3),strides=(1,1),padding=\"same\", activation='relu')) \n",
        "model.add(MaxPooling2D(pool_size=(2, 2),padding=\"same\"))\n",
        " \n",
        "model.add(Flatten()) \n",
        "model.add(Dropout(0.5)) \n",
        "model.add(Dense(1024, activation='relu')) \n",
        "model.add(Dropout(0.5))\n",
        "model.add(Dense(256, activation='relu')) \n",
        "model.add(Dropout(0.5)) \n",
        "model.add(Dense(7, activation='softmax'))"
      ],
      "metadata": {
        "id": "5qN90xGnqqOz"
      },
      "execution_count": null,
      "outputs": []
    },
    {
      "cell_type": "code",
      "source": [
        "model.compile(loss='categorical_crossentropy', optimizer='adam',metrics=[\"accuracy\"])"
      ],
      "metadata": {
        "id": "dGZywRBFJS4Q"
      },
      "execution_count": null,
      "outputs": []
    },
    {
      "cell_type": "code",
      "source": [
        "model.summary()"
      ],
      "metadata": {
        "colab": {
          "base_uri": "https://localhost:8080/"
        },
        "id": "VoCzUz2KJSwt",
        "outputId": "854f7482-ed4e-446a-99ba-e6913419b1cf"
      },
      "execution_count": null,
      "outputs": [
        {
          "output_type": "stream",
          "name": "stdout",
          "text": [
            "Model: \"sequential_3\"\n",
            "_________________________________________________________________\n",
            " Layer (type)                Output Shape              Param #   \n",
            "=================================================================\n",
            " conv2d_28 (Conv2D)          (None, 64, 128, 1)        73792     \n",
            "                                                                 \n",
            " conv2d_29 (Conv2D)          (None, 64, 128, 1)        36928     \n",
            "                                                                 \n",
            " max_pooling2d_11 (MaxPoolin  (None, 64, 64, 1)        0         \n",
            " g2D)                                                            \n",
            "                                                                 \n",
            " conv2d_30 (Conv2D)          (None, 128, 64, 1)        73856     \n",
            "                                                                 \n",
            " conv2d_31 (Conv2D)          (None, 128, 64, 1)        147584    \n",
            "                                                                 \n",
            " max_pooling2d_12 (MaxPoolin  (None, 128, 32, 1)       0         \n",
            " g2D)                                                            \n",
            "                                                                 \n",
            " conv2d_32 (Conv2D)          (None, 256, 32, 1)        295168    \n",
            "                                                                 \n",
            " conv2d_33 (Conv2D)          (None, 256, 32, 1)        590080    \n",
            "                                                                 \n",
            " conv2d_34 (Conv2D)          (None, 256, 32, 1)        590080    \n",
            "                                                                 \n",
            " max_pooling2d_13 (MaxPoolin  (None, 256, 16, 1)       0         \n",
            " g2D)                                                            \n",
            "                                                                 \n",
            " flatten_3 (Flatten)         (None, 4096)              0         \n",
            "                                                                 \n",
            " dropout_8 (Dropout)         (None, 4096)              0         \n",
            "                                                                 \n",
            " dense_8 (Dense)             (None, 1024)              4195328   \n",
            "                                                                 \n",
            " dropout_9 (Dropout)         (None, 1024)              0         \n",
            "                                                                 \n",
            " dense_9 (Dense)             (None, 256)               262400    \n",
            "                                                                 \n",
            " dropout_10 (Dropout)        (None, 256)               0         \n",
            "                                                                 \n",
            " dense_10 (Dense)            (None, 7)                 1799      \n",
            "                                                                 \n",
            "=================================================================\n",
            "Total params: 6,267,015\n",
            "Trainable params: 6,267,015\n",
            "Non-trainable params: 0\n",
            "_________________________________________________________________\n"
          ]
        }
      ]
    },
    {
      "cell_type": "code",
      "source": [
        "hist = model.fit(X_train, y_train, batch_size=32, epochs=100 ,verbose=1, validation_data=(X_test, y_test))\n"
      ],
      "metadata": {
        "colab": {
          "base_uri": "https://localhost:8080/"
        },
        "id": "sScNnYUXLQJY",
        "outputId": "bb88a507-9d1e-4d63-b11a-a45067d9242d"
      },
      "execution_count": null,
      "outputs": [
        {
          "metadata": {
            "tags": null
          },
          "name": "stdout",
          "output_type": "stream",
          "text": [
            "Epoch 1/100\n",
            "46/46 [==============================] - 1s 30ms/step - loss: 1.7703 - accuracy: 0.2850 - val_loss: 1.7402 - val_accuracy: 0.3130\n",
            "Epoch 2/100\n",
            "46/46 [==============================] - 1s 26ms/step - loss: 1.7538 - accuracy: 0.2788 - val_loss: 1.7341 - val_accuracy: 0.3213\n",
            "Epoch 3/100\n",
            "46/46 [==============================] - 1s 27ms/step - loss: 1.7339 - accuracy: 0.2809 - val_loss: 1.7326 - val_accuracy: 0.2659\n",
            "Epoch 4/100\n",
            "46/46 [==============================] - 1s 26ms/step - loss: 1.7538 - accuracy: 0.2968 - val_loss: 1.7311 - val_accuracy: 0.3269\n",
            "Epoch 5/100\n",
            "46/46 [==============================] - 1s 27ms/step - loss: 1.7020 - accuracy: 0.3211 - val_loss: 1.6889 - val_accuracy: 0.3518\n",
            "Epoch 6/100\n",
            "46/46 [==============================] - 1s 27ms/step - loss: 1.6711 - accuracy: 0.3329 - val_loss: 1.7522 - val_accuracy: 0.2964\n",
            "Epoch 7/100\n",
            "46/46 [==============================] - 1s 26ms/step - loss: 1.6957 - accuracy: 0.3121 - val_loss: 1.7271 - val_accuracy: 0.3269\n",
            "Epoch 8/100\n",
            "46/46 [==============================] - 1s 26ms/step - loss: 1.7037 - accuracy: 0.3218 - val_loss: 1.7491 - val_accuracy: 0.3324\n",
            "Epoch 9/100\n",
            "46/46 [==============================] - 1s 27ms/step - loss: 1.6743 - accuracy: 0.3086 - val_loss: 1.6631 - val_accuracy: 0.3407\n",
            "Epoch 10/100\n",
            "46/46 [==============================] - 1s 26ms/step - loss: 1.6915 - accuracy: 0.3211 - val_loss: 1.7345 - val_accuracy: 0.3269\n",
            "Epoch 11/100\n",
            "46/46 [==============================] - 1s 27ms/step - loss: 1.7116 - accuracy: 0.3141 - val_loss: 1.7236 - val_accuracy: 0.3186\n",
            "Epoch 12/100\n",
            "46/46 [==============================] - 1s 27ms/step - loss: 1.6228 - accuracy: 0.3578 - val_loss: 1.7631 - val_accuracy: 0.3269\n",
            "Epoch 13/100\n",
            "46/46 [==============================] - 1s 26ms/step - loss: 1.6105 - accuracy: 0.3384 - val_loss: 1.5659 - val_accuracy: 0.3657\n",
            "Epoch 14/100\n",
            "46/46 [==============================] - 1s 26ms/step - loss: 1.5565 - accuracy: 0.3606 - val_loss: 1.5845 - val_accuracy: 0.3601\n",
            "Epoch 15/100\n",
            "46/46 [==============================] - 1s 27ms/step - loss: 1.4971 - accuracy: 0.3717 - val_loss: 1.4895 - val_accuracy: 0.3989\n",
            "Epoch 16/100\n",
            "46/46 [==============================] - 1s 26ms/step - loss: 1.4821 - accuracy: 0.3793 - val_loss: 1.4957 - val_accuracy: 0.3740\n",
            "Epoch 17/100\n",
            "46/46 [==============================] - 1s 26ms/step - loss: 1.5362 - accuracy: 0.3682 - val_loss: 1.4938 - val_accuracy: 0.3934\n",
            "Epoch 18/100\n",
            "46/46 [==============================] - 1s 26ms/step - loss: 1.4412 - accuracy: 0.3974 - val_loss: 1.5013 - val_accuracy: 0.3989\n",
            "Epoch 19/100\n",
            "46/46 [==============================] - 1s 26ms/step - loss: 1.4242 - accuracy: 0.4279 - val_loss: 1.4492 - val_accuracy: 0.3989\n",
            "Epoch 20/100\n",
            "46/46 [==============================] - 1s 26ms/step - loss: 1.3714 - accuracy: 0.4397 - val_loss: 1.4536 - val_accuracy: 0.4266\n",
            "Epoch 21/100\n",
            "46/46 [==============================] - 1s 26ms/step - loss: 1.3459 - accuracy: 0.4501 - val_loss: 1.4146 - val_accuracy: 0.4294\n",
            "Epoch 22/100\n",
            "46/46 [==============================] - 1s 27ms/step - loss: 1.3253 - accuracy: 0.4411 - val_loss: 1.4320 - val_accuracy: 0.4626\n",
            "Epoch 23/100\n",
            "46/46 [==============================] - 1s 27ms/step - loss: 1.2604 - accuracy: 0.4813 - val_loss: 1.4919 - val_accuracy: 0.4404\n",
            "Epoch 24/100\n",
            "46/46 [==============================] - 1s 27ms/step - loss: 1.2692 - accuracy: 0.4868 - val_loss: 1.5005 - val_accuracy: 0.4238\n",
            "Epoch 25/100\n",
            "46/46 [==============================] - 1s 27ms/step - loss: 1.2435 - accuracy: 0.4938 - val_loss: 1.5128 - val_accuracy: 0.4266\n",
            "Epoch 26/100\n",
            "46/46 [==============================] - 1s 26ms/step - loss: 1.2246 - accuracy: 0.5257 - val_loss: 1.4601 - val_accuracy: 0.4404\n",
            "Epoch 27/100\n",
            "46/46 [==============================] - 1s 26ms/step - loss: 1.1318 - accuracy: 0.5492 - val_loss: 1.4930 - val_accuracy: 0.4488\n",
            "Epoch 28/100\n",
            "46/46 [==============================] - 1s 27ms/step - loss: 1.2216 - accuracy: 0.5153 - val_loss: 1.4343 - val_accuracy: 0.4238\n",
            "Epoch 29/100\n",
            "46/46 [==============================] - 1s 27ms/step - loss: 1.1702 - accuracy: 0.5340 - val_loss: 1.4969 - val_accuracy: 0.4238\n",
            "Epoch 30/100\n",
            "46/46 [==============================] - 1s 27ms/step - loss: 1.1101 - accuracy: 0.5492 - val_loss: 1.4603 - val_accuracy: 0.4875\n",
            "Epoch 31/100\n",
            "46/46 [==============================] - 1s 27ms/step - loss: 1.0855 - accuracy: 0.5714 - val_loss: 1.4471 - val_accuracy: 0.4404\n",
            "Epoch 32/100\n",
            "46/46 [==============================] - 1s 27ms/step - loss: 0.9643 - accuracy: 0.6158 - val_loss: 1.5860 - val_accuracy: 0.4183\n",
            "Epoch 33/100\n",
            "46/46 [==============================] - 1s 27ms/step - loss: 0.9951 - accuracy: 0.5985 - val_loss: 1.4813 - val_accuracy: 0.4460\n",
            "Epoch 34/100\n",
            "46/46 [==============================] - 1s 26ms/step - loss: 0.9019 - accuracy: 0.6387 - val_loss: 1.5893 - val_accuracy: 0.4737\n",
            "Epoch 35/100\n",
            "46/46 [==============================] - 1s 26ms/step - loss: 0.8533 - accuracy: 0.6595 - val_loss: 1.7128 - val_accuracy: 0.4709\n",
            "Epoch 36/100\n",
            "46/46 [==============================] - 1s 26ms/step - loss: 0.8437 - accuracy: 0.6595 - val_loss: 1.7252 - val_accuracy: 0.4432\n",
            "Epoch 37/100\n",
            "46/46 [==============================] - 1s 26ms/step - loss: 0.9215 - accuracy: 0.6449 - val_loss: 1.6777 - val_accuracy: 0.4654\n",
            "Epoch 38/100\n",
            "46/46 [==============================] - 1s 26ms/step - loss: 0.8294 - accuracy: 0.6768 - val_loss: 1.8784 - val_accuracy: 0.4211\n",
            "Epoch 39/100\n",
            "46/46 [==============================] - 1s 26ms/step - loss: 0.8161 - accuracy: 0.6734 - val_loss: 1.7144 - val_accuracy: 0.4238\n",
            "Epoch 40/100\n",
            "46/46 [==============================] - 1s 27ms/step - loss: 0.7500 - accuracy: 0.7074 - val_loss: 1.7631 - val_accuracy: 0.4543\n",
            "Epoch 41/100\n",
            "46/46 [==============================] - 1s 27ms/step - loss: 0.6898 - accuracy: 0.7413 - val_loss: 1.7855 - val_accuracy: 0.4488\n",
            "Epoch 42/100\n",
            "46/46 [==============================] - 1s 26ms/step - loss: 0.6815 - accuracy: 0.7594 - val_loss: 1.8128 - val_accuracy: 0.4765\n",
            "Epoch 43/100\n",
            "46/46 [==============================] - 1s 26ms/step - loss: 0.6191 - accuracy: 0.7663 - val_loss: 2.0215 - val_accuracy: 0.4626\n",
            "Epoch 44/100\n",
            "46/46 [==============================] - 1s 27ms/step - loss: 0.5894 - accuracy: 0.7725 - val_loss: 1.9505 - val_accuracy: 0.4709\n",
            "Epoch 45/100\n",
            "46/46 [==============================] - 1s 27ms/step - loss: 0.5301 - accuracy: 0.7947 - val_loss: 2.2270 - val_accuracy: 0.4294\n",
            "Epoch 46/100\n",
            "46/46 [==============================] - 1s 27ms/step - loss: 0.5585 - accuracy: 0.7926 - val_loss: 1.8255 - val_accuracy: 0.4432\n",
            "Epoch 47/100\n",
            "46/46 [==============================] - 1s 27ms/step - loss: 0.5877 - accuracy: 0.7899 - val_loss: 1.9574 - val_accuracy: 0.4404\n",
            "Epoch 48/100\n",
            "46/46 [==============================] - 1s 27ms/step - loss: 0.5183 - accuracy: 0.7954 - val_loss: 1.9513 - val_accuracy: 0.4404\n",
            "Epoch 49/100\n",
            "46/46 [==============================] - 1s 26ms/step - loss: 0.5012 - accuracy: 0.7989 - val_loss: 2.1366 - val_accuracy: 0.4266\n",
            "Epoch 50/100\n",
            "46/46 [==============================] - 1s 26ms/step - loss: 0.4716 - accuracy: 0.8100 - val_loss: 2.0981 - val_accuracy: 0.4377\n",
            "Epoch 51/100\n",
            "46/46 [==============================] - 1s 26ms/step - loss: 0.4425 - accuracy: 0.8419 - val_loss: 2.1967 - val_accuracy: 0.4460\n",
            "Epoch 52/100\n",
            "46/46 [==============================] - 1s 26ms/step - loss: 0.3989 - accuracy: 0.8530 - val_loss: 2.3026 - val_accuracy: 0.4183\n",
            "Epoch 53/100\n",
            "46/46 [==============================] - 1s 26ms/step - loss: 0.4026 - accuracy: 0.8495 - val_loss: 2.2112 - val_accuracy: 0.4377\n",
            "Epoch 54/100\n",
            "46/46 [==============================] - 1s 26ms/step - loss: 0.3651 - accuracy: 0.8613 - val_loss: 2.3253 - val_accuracy: 0.4321\n",
            "Epoch 55/100\n",
            "46/46 [==============================] - 1s 26ms/step - loss: 0.3708 - accuracy: 0.8696 - val_loss: 2.4555 - val_accuracy: 0.4349\n",
            "Epoch 56/100\n",
            "46/46 [==============================] - 1s 26ms/step - loss: 0.3590 - accuracy: 0.8745 - val_loss: 2.4230 - val_accuracy: 0.4321\n",
            "Epoch 57/100\n",
            "46/46 [==============================] - 1s 26ms/step - loss: 0.3457 - accuracy: 0.8675 - val_loss: 2.4863 - val_accuracy: 0.4377\n",
            "Epoch 58/100\n",
            "46/46 [==============================] - 1s 27ms/step - loss: 0.3138 - accuracy: 0.8821 - val_loss: 2.5410 - val_accuracy: 0.4349\n",
            "Epoch 59/100\n",
            "46/46 [==============================] - 1s 26ms/step - loss: 0.3340 - accuracy: 0.8773 - val_loss: 2.3807 - val_accuracy: 0.4404\n",
            "Epoch 60/100\n",
            "46/46 [==============================] - 1s 26ms/step - loss: 0.3712 - accuracy: 0.8648 - val_loss: 2.1767 - val_accuracy: 0.4543\n",
            "Epoch 61/100\n",
            "46/46 [==============================] - 1s 26ms/step - loss: 0.3163 - accuracy: 0.8939 - val_loss: 2.3573 - val_accuracy: 0.4460\n",
            "Epoch 62/100\n",
            "46/46 [==============================] - 1s 26ms/step - loss: 0.3598 - accuracy: 0.8773 - val_loss: 2.3581 - val_accuracy: 0.4681\n",
            "Epoch 63/100\n",
            "46/46 [==============================] - 1s 26ms/step - loss: 0.3311 - accuracy: 0.8904 - val_loss: 2.3212 - val_accuracy: 0.4792\n",
            "Epoch 64/100\n",
            "46/46 [==============================] - 1s 27ms/step - loss: 0.2838 - accuracy: 0.8932 - val_loss: 2.5029 - val_accuracy: 0.4654\n",
            "Epoch 65/100\n",
            "46/46 [==============================] - 1s 26ms/step - loss: 0.3537 - accuracy: 0.8821 - val_loss: 2.4554 - val_accuracy: 0.4598\n",
            "Epoch 66/100\n",
            "46/46 [==============================] - 1s 26ms/step - loss: 0.2709 - accuracy: 0.8960 - val_loss: 2.7382 - val_accuracy: 0.4432\n",
            "Epoch 67/100\n",
            "46/46 [==============================] - 1s 27ms/step - loss: 0.2544 - accuracy: 0.9112 - val_loss: 2.5118 - val_accuracy: 0.4488\n",
            "Epoch 68/100\n",
            "46/46 [==============================] - 1s 26ms/step - loss: 0.5530 - accuracy: 0.8343 - val_loss: 1.9836 - val_accuracy: 0.4404\n",
            "Epoch 69/100\n",
            "46/46 [==============================] - 1s 26ms/step - loss: 0.2446 - accuracy: 0.9175 - val_loss: 2.6930 - val_accuracy: 0.4543\n",
            "Epoch 70/100\n",
            "46/46 [==============================] - 1s 26ms/step - loss: 0.2005 - accuracy: 0.9320 - val_loss: 2.7365 - val_accuracy: 0.4488\n",
            "Epoch 71/100\n",
            "46/46 [==============================] - 1s 26ms/step - loss: 0.2201 - accuracy: 0.9237 - val_loss: 2.6442 - val_accuracy: 0.4349\n",
            "Epoch 72/100\n",
            "46/46 [==============================] - 1s 27ms/step - loss: 0.1845 - accuracy: 0.9334 - val_loss: 2.7569 - val_accuracy: 0.4626\n",
            "Epoch 73/100\n",
            "46/46 [==============================] - 1s 27ms/step - loss: 0.2014 - accuracy: 0.9265 - val_loss: 2.8702 - val_accuracy: 0.4488\n",
            "Epoch 74/100\n",
            "46/46 [==============================] - 1s 27ms/step - loss: 0.2231 - accuracy: 0.9230 - val_loss: 2.7329 - val_accuracy: 0.4404\n",
            "Epoch 75/100\n",
            "46/46 [==============================] - 1s 26ms/step - loss: 0.2131 - accuracy: 0.9327 - val_loss: 2.5381 - val_accuracy: 0.4488\n",
            "Epoch 76/100\n",
            "46/46 [==============================] - 1s 26ms/step - loss: 0.1753 - accuracy: 0.9452 - val_loss: 2.8996 - val_accuracy: 0.4460\n",
            "Epoch 77/100\n",
            "46/46 [==============================] - 1s 27ms/step - loss: 0.1716 - accuracy: 0.9390 - val_loss: 2.9231 - val_accuracy: 0.4404\n",
            "Epoch 78/100\n",
            "46/46 [==============================] - 1s 27ms/step - loss: 0.1352 - accuracy: 0.9563 - val_loss: 2.9650 - val_accuracy: 0.4377\n",
            "Epoch 79/100\n",
            "46/46 [==============================] - 1s 27ms/step - loss: 0.1746 - accuracy: 0.9390 - val_loss: 3.1384 - val_accuracy: 0.4238\n",
            "Epoch 80/100\n",
            "46/46 [==============================] - 1s 27ms/step - loss: 0.1708 - accuracy: 0.9438 - val_loss: 3.0726 - val_accuracy: 0.4321\n",
            "Epoch 81/100\n",
            "46/46 [==============================] - 1s 27ms/step - loss: 0.1546 - accuracy: 0.9494 - val_loss: 2.9263 - val_accuracy: 0.4571\n",
            "Epoch 82/100\n",
            "46/46 [==============================] - 1s 27ms/step - loss: 0.1570 - accuracy: 0.9508 - val_loss: 2.9426 - val_accuracy: 0.4626\n",
            "Epoch 83/100\n",
            "46/46 [==============================] - 1s 27ms/step - loss: 0.1381 - accuracy: 0.9535 - val_loss: 3.0039 - val_accuracy: 0.4488\n",
            "Epoch 84/100\n",
            "46/46 [==============================] - 1s 28ms/step - loss: 0.1566 - accuracy: 0.9355 - val_loss: 3.1596 - val_accuracy: 0.4543\n",
            "Epoch 85/100\n",
            "46/46 [==============================] - 1s 28ms/step - loss: 0.1215 - accuracy: 0.9639 - val_loss: 3.0786 - val_accuracy: 0.4543\n",
            "Epoch 86/100\n",
            "46/46 [==============================] - 1s 27ms/step - loss: 0.1327 - accuracy: 0.9542 - val_loss: 3.1519 - val_accuracy: 0.4654\n",
            "Epoch 87/100\n",
            "46/46 [==============================] - 1s 27ms/step - loss: 0.1396 - accuracy: 0.9473 - val_loss: 3.2939 - val_accuracy: 0.4488\n",
            "Epoch 88/100\n",
            "46/46 [==============================] - 1s 28ms/step - loss: 0.1708 - accuracy: 0.9417 - val_loss: 3.0789 - val_accuracy: 0.4349\n",
            "Epoch 89/100\n",
            "46/46 [==============================] - 1s 27ms/step - loss: 0.1290 - accuracy: 0.9521 - val_loss: 2.9199 - val_accuracy: 0.4404\n",
            "Epoch 90/100\n",
            "46/46 [==============================] - 1s 28ms/step - loss: 0.1603 - accuracy: 0.9473 - val_loss: 3.0708 - val_accuracy: 0.4515\n",
            "Epoch 91/100\n",
            "46/46 [==============================] - 1s 26ms/step - loss: 0.1189 - accuracy: 0.9577 - val_loss: 3.1208 - val_accuracy: 0.4404\n",
            "Epoch 92/100\n",
            "46/46 [==============================] - 1s 27ms/step - loss: 0.1242 - accuracy: 0.9584 - val_loss: 3.1159 - val_accuracy: 0.4598\n",
            "Epoch 93/100\n",
            "46/46 [==============================] - 1s 28ms/step - loss: 0.1326 - accuracy: 0.9598 - val_loss: 3.2946 - val_accuracy: 0.4681\n",
            "Epoch 94/100\n",
            "46/46 [==============================] - 1s 28ms/step - loss: 0.1458 - accuracy: 0.9591 - val_loss: 3.0708 - val_accuracy: 0.4543\n",
            "Epoch 95/100\n",
            "46/46 [==============================] - 1s 27ms/step - loss: 0.1252 - accuracy: 0.9556 - val_loss: 3.4994 - val_accuracy: 0.4626\n",
            "Epoch 96/100\n",
            "46/46 [==============================] - 1s 27ms/step - loss: 0.1158 - accuracy: 0.9639 - val_loss: 3.1640 - val_accuracy: 0.4681\n",
            "Epoch 97/100\n",
            "46/46 [==============================] - 1s 27ms/step - loss: 0.1456 - accuracy: 0.9501 - val_loss: 3.3677 - val_accuracy: 0.4709\n",
            "Epoch 98/100\n",
            "46/46 [==============================] - 1s 28ms/step - loss: 0.1313 - accuracy: 0.9626 - val_loss: 3.2036 - val_accuracy: 0.4709\n",
            "Epoch 99/100\n",
            "46/46 [==============================] - 1s 28ms/step - loss: 0.3861 - accuracy: 0.8689 - val_loss: 2.7397 - val_accuracy: 0.4681\n",
            "Epoch 100/100\n",
            "46/46 [==============================] - 1s 28ms/step - loss: 0.1265 - accuracy: 0.9542 - val_loss: 3.1179 - val_accuracy: 0.4681\n"
          ]
        }
      ]
    },
    {
      "cell_type": "code",
      "source": [
        "plt.plot(hist.history['loss'])\n",
        "plt.plot(hist.history['val_loss'])\n",
        "plt.legend(['Training', 'Validation'])\n",
        "plt.title('Training and Validation losses')\n",
        "plt.xlabel('epoch')\n",
        "plt.ylabel('Loss')\n",
        "# plt.ylim([0,1])"
      ],
      "metadata": {
        "colab": {
          "base_uri": "https://localhost:8080/",
          "height": 312
        },
        "id": "aHAxStLOZCxj",
        "outputId": "879e10d4-6ef9-452f-80da-9ca946c9fa21"
      },
      "execution_count": null,
      "outputs": [
        {
          "output_type": "execute_result",
          "data": {
            "text/plain": [
              "Text(0, 0.5, 'Loss')"
            ]
          },
          "metadata": {},
          "execution_count": 39
        },
        {
          "output_type": "display_data",
          "data": {
            "image/png": "[encoded data removed]",
            "text/plain": [
              "<Figure size 432x288 with 1 Axes>"
            ]
          },
          "metadata": {
            "needs_background": "light"
          }
        }
      ]
    },
    {
      "cell_type": "code",
      "source": [
        "plt.plot(hist.history['accuracy'])\n",
        "plt.plot(hist.history['val_accuracy'])\n",
        "plt.legend(['Training', 'Validation'])\n",
        "plt.title('Training and Validation accuracy')\n",
        "plt.xlabel('epoch')\n",
        "plt.ylabel('accuracy')\n",
        "# plt.ylim([0,1])"
      ],
      "metadata": {
        "colab": {
          "base_uri": "https://localhost:8080/",
          "height": 312
        },
        "id": "FWctNJYUaeuE",
        "outputId": "a7f17754-ad20-406f-9ef6-31acdb88f054"
      },
      "execution_count": null,
      "outputs": [
        {
          "output_type": "execute_result",
          "data": {
            "text/plain": [
              "Text(0, 0.5, 'accuracy')"
            ]
          },
          "metadata": {},
          "execution_count": 41
        },
        {
          "output_type": "display_data",
          "data": {
            "image/png": "[encoded data removed]",
            "text/plain": [
              "<Figure size 432x288 with 1 Axes>"
            ]
          },
          "metadata": {
            "needs_background": "light"
          }
        }
      ]
    },
    {
      "cell_type": "code",
      "source": [
        ""
      ],
      "metadata": {
        "id": "fVwzjZaOJRsW"
      },
      "execution_count": null,
      "outputs": []
    }
  ]
}